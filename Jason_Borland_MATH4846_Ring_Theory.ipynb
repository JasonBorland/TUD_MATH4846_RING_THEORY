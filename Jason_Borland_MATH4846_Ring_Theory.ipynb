{
 "cells": [
  {
   "cell_type": "markdown",
   "metadata": {},
   "source": [
    "# DT8248 Stage 4 Ring Theory Assignment 1\n",
    "## Name: Jason Borland\n",
    "## Student Number: D17129310"
   ]
  },
  {
   "cell_type": "markdown",
   "metadata": {},
   "source": [
    "### Question 1: A ring R is called simple if its only two-sided ideals are the full ring and the zero ideal.  Prove that the matrix ring $M_2(F)$ is simple if F is a field?"
   ]
  },
  {
   "cell_type": "markdown",
   "metadata": {},
   "source": [
    "Let:\n",
    "$$\n",
    "M_2(F) \n",
    "=\n",
    "\\Big \\{\n",
    "\\begin{bmatrix}\n",
    "a & b \\\\\n",
    "c & d \\\\\n",
    "\\end{bmatrix}\n",
    ":\n",
    "a,b,c,d \\in F\n",
    "\\Big \\}\n",
    "$$\n",
    "\n",
    "\n",
    "The Zero matrix in $M_2(F)$ is:\n",
    "\n",
    "\n",
    "__0__\n",
    "$\n",
    "= \n",
    "\\begin{bmatrix}\n",
    "0 & 0 \\\\\n",
    "0 & 0 \\\\\n",
    "\\end{bmatrix}\n",
    "$\n",
    "\n",
    "Where $0 \\in F$ is the additive identity.  Also note that since F is a field, it contains the multiplicative identity 1, so $M_2(F)$ contains the identity matrix. \n",
    "\n",
    "First note $M_2(F) \\ne$ {__0__}.  Now suppose that __J__ is an ideal of $M_2(F)$ and that $J \\ne $ {__0__}.  We want to prove $J = M_2(F)$.  This is equivalent to proving that __J__ contains the identity matrix.  Since $J \\ne$ {__0__}, there exists a matrix $A \\in J$ which is not zero in every entry, such that $\\{A\\} \\subseteq J$.  We will try to build the identity matrix starting from A using operations under which ideals are stable, that is, internal sum and multiplication with elements of $M_2(F)$.\n"
   ]
  },
  {
   "cell_type": "markdown",
   "metadata": {},
   "source": [
    "Consider the matrix $A \\in J$.\n",
    "\n",
    "$$\n",
    "A\n",
    "= \n",
    "\\begin{bmatrix}\n",
    "a_{11} & a_{12} \\\\\n",
    "a_{21} & a_{22} \\\\\n",
    "\\end{bmatrix}\n",
    "$$\n",
    "Where $a_{ij} \\in F$ and at least one of the $a_{ij} \\ne 0$.  We shall arbitarily select $a_{12} \\ne 0$.\n"
   ]
  },
  {
   "cell_type": "markdown",
   "metadata": {},
   "source": [
    "Now consider the following elementary matrices in $M_2(F)$:\n",
    "\n",
    "$$\n",
    "E_{11}\n",
    "= \n",
    "\\begin{bmatrix}\n",
    "1 & 0 \\\\\n",
    "0 & 0 \\\\\n",
    "\\end{bmatrix}\n",
    ",\n",
    "E_{12}\n",
    "= \n",
    "\\begin{bmatrix}\n",
    "0 & 1 \\\\\n",
    "0 & 0 \\\\\n",
    "\\end{bmatrix}\n",
    ",\n",
    "E_{21}\n",
    "= \n",
    "\\begin{bmatrix}\n",
    "0 & 0 \\\\\n",
    "1 & 0 \\\\\n",
    "\\end{bmatrix}\n",
    ",\n",
    "E_{22}\n",
    "= \n",
    "\\begin{bmatrix}\n",
    "0 & 0 \\\\\n",
    "0 & 1 \\\\\n",
    "\\end{bmatrix}\n",
    "$$"
   ]
  },
  {
   "cell_type": "markdown",
   "metadata": {},
   "source": [
    "Now since __J__ is a two-sided Ideal we can multiply, $A \\in J$ on either side by elements of $M_2(F)$ and remain in __J__.  \n",
    "\n",
    "$$\n",
    "E_{11}AE_{21}\n",
    "=\n",
    "\\begin{bmatrix}\n",
    "1 & 0 \\\\\n",
    "0 & 0 \\\\\n",
    "\\end{bmatrix}\n",
    "\\begin{bmatrix}\n",
    "a_{11} & a_{12} \\\\\n",
    "a_{21} & a_{22} \\\\\n",
    "\\end{bmatrix}\n",
    "\\begin{bmatrix}\n",
    "0 & 0 \\\\\n",
    "1 & 0 \\\\\n",
    "\\end{bmatrix}\n",
    "=\n",
    "\\begin{bmatrix}\n",
    "a_{12} & 0 \\\\\n",
    "0 & 0 \\\\\n",
    "\\end{bmatrix}\n",
    "=\n",
    "E_{11}\n",
    "\\in J\n",
    "$$\n",
    "\n",
    "Another matrix operation is multiplication by a scalar.  Since F is a field and $a_{12} \\in F$ we know $a_{12}^{-1} \\in F$. Therefore:\n",
    "\n",
    "$$\n",
    "a_{12}^{-1}E_{11}AE_{21}\n",
    "=\n",
    "a_{12}^{-1}\n",
    "\\begin{bmatrix}\n",
    "a_{12}& 0 \\\\\n",
    "0 & 0 \\\\\n",
    "\\end{bmatrix}\n",
    "=\n",
    "\\begin{bmatrix}\n",
    "1 & 0 \\\\\n",
    "0 & 0 \\\\\n",
    "\\end{bmatrix}\n",
    "\\in J\n",
    "$$\n",
    "\n",
    "Similarly:\n",
    "$$\n",
    "E_{21}AE_{22}\n",
    "=\n",
    "\\begin{bmatrix}\n",
    "0 & 0 \\\\\n",
    "1 & 0 \\\\\n",
    "\\end{bmatrix}\n",
    "\\begin{bmatrix}\n",
    "a_{11} & a_{12} \\\\\n",
    "a_{21} & a_{22} \\\\\n",
    "\\end{bmatrix}\n",
    "\\begin{bmatrix}\n",
    "0 & 0 \\\\\n",
    "0 & 1 \\\\\n",
    "\\end{bmatrix}\n",
    "=\n",
    "\\begin{bmatrix}\n",
    "0 & 0 \\\\\n",
    "0 & a_{12} \\\\\n",
    "\\end{bmatrix}\n",
    "\\in J\n",
    "$$\n",
    "\n",
    "$$\n",
    "a_{12}^{-1}E_{21}AE_{22}\n",
    "=\n",
    "a_{12}^{-1}\n",
    "\\begin{bmatrix}\n",
    "0 & 0 \\\\\n",
    "0 & a_{12} \\\\\n",
    "\\end{bmatrix}\n",
    "=\n",
    "\\begin{bmatrix}\n",
    "0 & 0 \\\\\n",
    "0 & 1 \\\\\n",
    "\\end{bmatrix}\n",
    "=\n",
    "E_{22}\n",
    "\\in J\n",
    "$$\n",
    "\n",
    "Continuing our construction.  Since __J__ is an Ideal the addition of two elements of __J__ remains in __J__:\n",
    "\n",
    "$$\n",
    "E_{11} + E_{22} \n",
    "=\n",
    "\\begin{bmatrix}\n",
    "1 & 0 \\\\\n",
    "0 & 1 \\\\\n",
    "\\end{bmatrix}\n",
    "=\n",
    "I_2 \\in J\n",
    "$$\n",
    "\n",
    "We have shown that the identity is in __J__.  Since $I \\in J$, then the ideal __J__ contains the whole matrix ring $M_2(F)$.  As such we have proven that $M_2(F)$ is simple.\n"
   ]
  },
  {
   "cell_type": "markdown",
   "metadata": {},
   "source": [
    "### Question 2(a): \n",
    "#### Suppose that R is a ring with multiplicative identity, 1, and $\\phi: R \\to S$ is a homomorphism onto S, then prove that $\\phi(1)$ is the multiplicative identity of S."
   ]
  },
  {
   "cell_type": "markdown",
   "metadata": {},
   "source": []
  },
  {
   "cell_type": "markdown",
   "metadata": {},
   "source": [
    "### Question 2(b):\n",
    "#### Given $\\phi: R \\to S$ is a homomorphism onto S. Prove that the kernel of $\\phi$ is an ideal of R, where the kernel of $\\phi$ is the set $ker(\\phi) = \\{ r \\in R: \\phi(r) = 0\\}$.\n"
   ]
  },
  {
   "cell_type": "code",
   "execution_count": null,
   "metadata": {},
   "outputs": [],
   "source": []
  },
  {
   "cell_type": "markdown",
   "metadata": {},
   "source": [
    "### Question 2(c):\n",
    "#### Show that $A = \\{(3x,5y) : x,y \\in \\mathbb{Z}\\}$ is an ideal of $\\mathbb{Z} \\oplus \\mathbb{Z}$.  Prove A is not a prime ideal."
   ]
  },
  {
   "cell_type": "code",
   "execution_count": null,
   "metadata": {},
   "outputs": [],
   "source": []
  },
  {
   "cell_type": "markdown",
   "metadata": {},
   "source": [
    "### Question 2(d):\n",
    "#### Show that $A = \\{(3x,y) : x,y \\in \\mathbb{Z}\\}$ is a maximal ideal of $\\mathbb{Z} \\oplus \\mathbb{Z}$."
   ]
  },
  {
   "cell_type": "code",
   "execution_count": null,
   "metadata": {},
   "outputs": [],
   "source": []
  },
  {
   "cell_type": "markdown",
   "metadata": {},
   "source": [
    "### Question 3(a):\n",
    "#### For ring R, define $\\langle a,b \\rangle$ to be the smallest ideal containing both a and b.  Prove that if R is a commutative ring with identity then $\\langle a,b \\rangle = \\{ra + sb: r,s \\in R\\}$."
   ]
  },
  {
   "cell_type": "code",
   "execution_count": null,
   "metadata": {},
   "outputs": [],
   "source": []
  },
  {
   "cell_type": "markdown",
   "metadata": {},
   "source": [
    "### Question 3(b): \n",
    "#### Illustrate that $\\mathbb{Z}[x]$ is not a principal ideal domain by giving an example of an ideal which is not a principal ideal. (Hint consider the ideal $\\langle 2,x \\rangle$)."
   ]
  },
  {
   "cell_type": "code",
   "execution_count": null,
   "metadata": {},
   "outputs": [],
   "source": []
  },
  {
   "cell_type": "markdown",
   "metadata": {},
   "source": [
    "### Question 3(c):\n",
    "#### Show that $\\langle 2,x \\rangle$ is a prime ideal of $\\mathbb{Z}[x]$."
   ]
  },
  {
   "cell_type": "code",
   "execution_count": null,
   "metadata": {},
   "outputs": [],
   "source": []
  }
 ],
 "metadata": {
  "kernelspec": {
   "display_name": "Python 3.7.6 64-bit ('base37': conda)",
   "language": "python",
   "name": "python37664bitbase37condaa4b23bafa85c4735b71c45b7bba63238"
  },
  "language_info": {
   "codemirror_mode": {
    "name": "ipython",
    "version": 3
   },
   "file_extension": ".py",
   "mimetype": "text/x-python",
   "name": "python",
   "nbconvert_exporter": "python",
   "pygments_lexer": "ipython3",
   "version": "3.7.6"
  }
 },
 "nbformat": 4,
 "nbformat_minor": 2
}
